{
 "cells": [
  {
   "cell_type": "markdown",
   "id": "4c77544c",
   "metadata": {},
   "source": [
    "# Importing Libraries"
   ]
  },
  {
   "cell_type": "code",
   "execution_count": 98,
   "id": "5e5a6107",
   "metadata": {
    "ExecuteTime": {
     "end_time": "2024-01-06T16:41:39.158800Z",
     "start_time": "2024-01-06T16:41:39.138909Z"
    }
   },
   "outputs": [],
   "source": [
    "import pandas as pd\n",
    "import numpy as np\n",
    "import seaborn as sns\n",
    "import matplotlib.pyplot as plt\n",
    "import warnings\n",
    "\n",
    "warnings.filterwarnings('ignore')"
   ]
  },
  {
   "cell_type": "code",
   "execution_count": 99,
   "id": "c822e3c6",
   "metadata": {
    "ExecuteTime": {
     "end_time": "2024-01-06T16:41:40.644970Z",
     "start_time": "2024-01-06T16:41:39.922277Z"
    }
   },
   "outputs": [],
   "source": [
    "df=pd.read_csv('hotel_bookings 2.csv') #reading libraries"
   ]
  },
  {
   "cell_type": "code",
   "execution_count": 100,
   "id": "d17f1c8f",
   "metadata": {
    "ExecuteTime": {
     "end_time": "2024-01-06T16:41:41.689764Z",
     "start_time": "2024-01-06T16:41:41.590483Z"
    }
   },
   "outputs": [
    {
     "data": {
      "text/html": [
       "<div>\n",
       "<style scoped>\n",
       "    .dataframe tbody tr th:only-of-type {\n",
       "        vertical-align: middle;\n",
       "    }\n",
       "\n",
       "    .dataframe tbody tr th {\n",
       "        vertical-align: top;\n",
       "    }\n",
       "\n",
       "    .dataframe thead th {\n",
       "        text-align: right;\n",
       "    }\n",
       "</style>\n",
       "<table border=\"1\" class=\"dataframe\">\n",
       "  <thead>\n",
       "    <tr style=\"text-align: right;\">\n",
       "      <th></th>\n",
       "      <th>hotel</th>\n",
       "      <th>is_canceled</th>\n",
       "      <th>lead_time</th>\n",
       "      <th>arrival_date_year</th>\n",
       "      <th>arrival_date_month</th>\n",
       "      <th>arrival_date_week_number</th>\n",
       "      <th>arrival_date_day_of_month</th>\n",
       "      <th>stays_in_weekend_nights</th>\n",
       "      <th>stays_in_week_nights</th>\n",
       "      <th>adults</th>\n",
       "      <th>...</th>\n",
       "      <th>deposit_type</th>\n",
       "      <th>agent</th>\n",
       "      <th>company</th>\n",
       "      <th>days_in_waiting_list</th>\n",
       "      <th>customer_type</th>\n",
       "      <th>adr</th>\n",
       "      <th>required_car_parking_spaces</th>\n",
       "      <th>total_of_special_requests</th>\n",
       "      <th>reservation_status</th>\n",
       "      <th>reservation_status_date</th>\n",
       "    </tr>\n",
       "  </thead>\n",
       "  <tbody>\n",
       "    <tr>\n",
       "      <th>0</th>\n",
       "      <td>Resort Hotel</td>\n",
       "      <td>0</td>\n",
       "      <td>342</td>\n",
       "      <td>2015</td>\n",
       "      <td>July</td>\n",
       "      <td>27</td>\n",
       "      <td>1</td>\n",
       "      <td>0</td>\n",
       "      <td>0</td>\n",
       "      <td>2</td>\n",
       "      <td>...</td>\n",
       "      <td>No Deposit</td>\n",
       "      <td>NaN</td>\n",
       "      <td>NaN</td>\n",
       "      <td>0</td>\n",
       "      <td>Transient</td>\n",
       "      <td>0.0</td>\n",
       "      <td>0</td>\n",
       "      <td>0</td>\n",
       "      <td>Check-Out</td>\n",
       "      <td>1/7/2015</td>\n",
       "    </tr>\n",
       "    <tr>\n",
       "      <th>1</th>\n",
       "      <td>Resort Hotel</td>\n",
       "      <td>0</td>\n",
       "      <td>737</td>\n",
       "      <td>2015</td>\n",
       "      <td>July</td>\n",
       "      <td>27</td>\n",
       "      <td>1</td>\n",
       "      <td>0</td>\n",
       "      <td>0</td>\n",
       "      <td>2</td>\n",
       "      <td>...</td>\n",
       "      <td>No Deposit</td>\n",
       "      <td>NaN</td>\n",
       "      <td>NaN</td>\n",
       "      <td>0</td>\n",
       "      <td>Transient</td>\n",
       "      <td>0.0</td>\n",
       "      <td>0</td>\n",
       "      <td>0</td>\n",
       "      <td>Check-Out</td>\n",
       "      <td>1/7/2015</td>\n",
       "    </tr>\n",
       "    <tr>\n",
       "      <th>2</th>\n",
       "      <td>Resort Hotel</td>\n",
       "      <td>0</td>\n",
       "      <td>7</td>\n",
       "      <td>2015</td>\n",
       "      <td>July</td>\n",
       "      <td>27</td>\n",
       "      <td>1</td>\n",
       "      <td>0</td>\n",
       "      <td>1</td>\n",
       "      <td>1</td>\n",
       "      <td>...</td>\n",
       "      <td>No Deposit</td>\n",
       "      <td>NaN</td>\n",
       "      <td>NaN</td>\n",
       "      <td>0</td>\n",
       "      <td>Transient</td>\n",
       "      <td>75.0</td>\n",
       "      <td>0</td>\n",
       "      <td>0</td>\n",
       "      <td>Check-Out</td>\n",
       "      <td>2/7/2015</td>\n",
       "    </tr>\n",
       "    <tr>\n",
       "      <th>3</th>\n",
       "      <td>Resort Hotel</td>\n",
       "      <td>0</td>\n",
       "      <td>13</td>\n",
       "      <td>2015</td>\n",
       "      <td>July</td>\n",
       "      <td>27</td>\n",
       "      <td>1</td>\n",
       "      <td>0</td>\n",
       "      <td>1</td>\n",
       "      <td>1</td>\n",
       "      <td>...</td>\n",
       "      <td>No Deposit</td>\n",
       "      <td>304.0</td>\n",
       "      <td>NaN</td>\n",
       "      <td>0</td>\n",
       "      <td>Transient</td>\n",
       "      <td>75.0</td>\n",
       "      <td>0</td>\n",
       "      <td>0</td>\n",
       "      <td>Check-Out</td>\n",
       "      <td>2/7/2015</td>\n",
       "    </tr>\n",
       "    <tr>\n",
       "      <th>4</th>\n",
       "      <td>Resort Hotel</td>\n",
       "      <td>0</td>\n",
       "      <td>14</td>\n",
       "      <td>2015</td>\n",
       "      <td>July</td>\n",
       "      <td>27</td>\n",
       "      <td>1</td>\n",
       "      <td>0</td>\n",
       "      <td>2</td>\n",
       "      <td>2</td>\n",
       "      <td>...</td>\n",
       "      <td>No Deposit</td>\n",
       "      <td>240.0</td>\n",
       "      <td>NaN</td>\n",
       "      <td>0</td>\n",
       "      <td>Transient</td>\n",
       "      <td>98.0</td>\n",
       "      <td>0</td>\n",
       "      <td>1</td>\n",
       "      <td>Check-Out</td>\n",
       "      <td>3/7/2015</td>\n",
       "    </tr>\n",
       "    <tr>\n",
       "      <th>5</th>\n",
       "      <td>Resort Hotel</td>\n",
       "      <td>0</td>\n",
       "      <td>14</td>\n",
       "      <td>2015</td>\n",
       "      <td>July</td>\n",
       "      <td>27</td>\n",
       "      <td>1</td>\n",
       "      <td>0</td>\n",
       "      <td>2</td>\n",
       "      <td>2</td>\n",
       "      <td>...</td>\n",
       "      <td>No Deposit</td>\n",
       "      <td>240.0</td>\n",
       "      <td>NaN</td>\n",
       "      <td>0</td>\n",
       "      <td>Transient</td>\n",
       "      <td>98.0</td>\n",
       "      <td>0</td>\n",
       "      <td>1</td>\n",
       "      <td>Check-Out</td>\n",
       "      <td>3/7/2015</td>\n",
       "    </tr>\n",
       "  </tbody>\n",
       "</table>\n",
       "<p>6 rows × 32 columns</p>\n",
       "</div>"
      ],
      "text/plain": [
       "          hotel  is_canceled  lead_time  arrival_date_year arrival_date_month  \\\n",
       "0  Resort Hotel            0        342               2015               July   \n",
       "1  Resort Hotel            0        737               2015               July   \n",
       "2  Resort Hotel            0          7               2015               July   \n",
       "3  Resort Hotel            0         13               2015               July   \n",
       "4  Resort Hotel            0         14               2015               July   \n",
       "5  Resort Hotel            0         14               2015               July   \n",
       "\n",
       "   arrival_date_week_number  arrival_date_day_of_month  \\\n",
       "0                        27                          1   \n",
       "1                        27                          1   \n",
       "2                        27                          1   \n",
       "3                        27                          1   \n",
       "4                        27                          1   \n",
       "5                        27                          1   \n",
       "\n",
       "   stays_in_weekend_nights  stays_in_week_nights  adults  ...  deposit_type  \\\n",
       "0                        0                     0       2  ...    No Deposit   \n",
       "1                        0                     0       2  ...    No Deposit   \n",
       "2                        0                     1       1  ...    No Deposit   \n",
       "3                        0                     1       1  ...    No Deposit   \n",
       "4                        0                     2       2  ...    No Deposit   \n",
       "5                        0                     2       2  ...    No Deposit   \n",
       "\n",
       "   agent company days_in_waiting_list customer_type   adr  \\\n",
       "0    NaN     NaN                    0     Transient   0.0   \n",
       "1    NaN     NaN                    0     Transient   0.0   \n",
       "2    NaN     NaN                    0     Transient  75.0   \n",
       "3  304.0     NaN                    0     Transient  75.0   \n",
       "4  240.0     NaN                    0     Transient  98.0   \n",
       "5  240.0     NaN                    0     Transient  98.0   \n",
       "\n",
       "   required_car_parking_spaces  total_of_special_requests  reservation_status  \\\n",
       "0                            0                          0           Check-Out   \n",
       "1                            0                          0           Check-Out   \n",
       "2                            0                          0           Check-Out   \n",
       "3                            0                          0           Check-Out   \n",
       "4                            0                          1           Check-Out   \n",
       "5                            0                          1           Check-Out   \n",
       "\n",
       "  reservation_status_date  \n",
       "0                1/7/2015  \n",
       "1                1/7/2015  \n",
       "2                2/7/2015  \n",
       "3                2/7/2015  \n",
       "4                3/7/2015  \n",
       "5                3/7/2015  \n",
       "\n",
       "[6 rows x 32 columns]"
      ]
     },
     "execution_count": 100,
     "metadata": {},
     "output_type": "execute_result"
    }
   ],
   "source": [
    "df.head(6)\n",
    "\n",
    "#to see the top 5"
   ]
  },
  {
   "cell_type": "code",
   "execution_count": 4,
   "id": "053bed68",
   "metadata": {
    "ExecuteTime": {
     "end_time": "2024-01-06T15:53:45.342750Z",
     "start_time": "2024-01-06T15:53:44.980458Z"
    }
   },
   "outputs": [
    {
     "name": "stdout",
     "output_type": "stream",
     "text": [
      "<class 'pandas.core.frame.DataFrame'>\n",
      "RangeIndex: 119390 entries, 0 to 119389\n",
      "Data columns (total 32 columns):\n",
      " #   Column                          Non-Null Count   Dtype  \n",
      "---  ------                          --------------   -----  \n",
      " 0   hotel                           119390 non-null  object \n",
      " 1   is_canceled                     119390 non-null  int64  \n",
      " 2   lead_time                       119390 non-null  int64  \n",
      " 3   arrival_date_year               119390 non-null  int64  \n",
      " 4   arrival_date_month              119390 non-null  object \n",
      " 5   arrival_date_week_number        119390 non-null  int64  \n",
      " 6   arrival_date_day_of_month       119390 non-null  int64  \n",
      " 7   stays_in_weekend_nights         119390 non-null  int64  \n",
      " 8   stays_in_week_nights            119390 non-null  int64  \n",
      " 9   adults                          119390 non-null  int64  \n",
      " 10  children                        119386 non-null  float64\n",
      " 11  babies                          119390 non-null  int64  \n",
      " 12  meal                            119390 non-null  object \n",
      " 13  country                         118902 non-null  object \n",
      " 14  market_segment                  119390 non-null  object \n",
      " 15  distribution_channel            119390 non-null  object \n",
      " 16  is_repeated_guest               119390 non-null  int64  \n",
      " 17  previous_cancellations          119390 non-null  int64  \n",
      " 18  previous_bookings_not_canceled  119390 non-null  int64  \n",
      " 19  reserved_room_type              119390 non-null  object \n",
      " 20  assigned_room_type              119390 non-null  object \n",
      " 21  booking_changes                 119390 non-null  int64  \n",
      " 22  deposit_type                    119390 non-null  object \n",
      " 23  agent                           103050 non-null  float64\n",
      " 24  company                         6797 non-null    float64\n",
      " 25  days_in_waiting_list            119390 non-null  int64  \n",
      " 26  customer_type                   119390 non-null  object \n",
      " 27  adr                             119390 non-null  float64\n",
      " 28  required_car_parking_spaces     119390 non-null  int64  \n",
      " 29  total_of_special_requests       119390 non-null  int64  \n",
      " 30  reservation_status              119390 non-null  object \n",
      " 31  reservation_status_date         119390 non-null  object \n",
      "dtypes: float64(4), int64(16), object(12)\n",
      "memory usage: 29.1+ MB\n"
     ]
    }
   ],
   "source": [
    "df.info()\n"
   ]
  },
  {
   "cell_type": "code",
   "execution_count": 101,
   "id": "4dd6bb63",
   "metadata": {
    "ExecuteTime": {
     "end_time": "2024-01-06T16:42:24.182546Z",
     "start_time": "2024-01-06T16:42:24.120191Z"
    }
   },
   "outputs": [],
   "source": [
    "df['reservation_status_date']=pd.to_datetime(df['reservation_status_date'],format=\"%d/%m/%Y\") # We want to RSD to Date format so we can work on it "
   ]
  },
  {
   "cell_type": "code",
   "execution_count": 102,
   "id": "90d5a081",
   "metadata": {
    "ExecuteTime": {
     "end_time": "2024-01-06T16:42:42.604116Z",
     "start_time": "2024-01-06T16:42:42.287599Z"
    }
   },
   "outputs": [
    {
     "data": {
      "text/html": [
       "<div>\n",
       "<style scoped>\n",
       "    .dataframe tbody tr th:only-of-type {\n",
       "        vertical-align: middle;\n",
       "    }\n",
       "\n",
       "    .dataframe tbody tr th {\n",
       "        vertical-align: top;\n",
       "    }\n",
       "\n",
       "    .dataframe thead th {\n",
       "        text-align: right;\n",
       "    }\n",
       "</style>\n",
       "<table border=\"1\" class=\"dataframe\">\n",
       "  <thead>\n",
       "    <tr style=\"text-align: right;\">\n",
       "      <th></th>\n",
       "      <th>hotel</th>\n",
       "      <th>arrival_date_month</th>\n",
       "      <th>meal</th>\n",
       "      <th>country</th>\n",
       "      <th>market_segment</th>\n",
       "      <th>distribution_channel</th>\n",
       "      <th>reserved_room_type</th>\n",
       "      <th>assigned_room_type</th>\n",
       "      <th>deposit_type</th>\n",
       "      <th>customer_type</th>\n",
       "      <th>reservation_status</th>\n",
       "    </tr>\n",
       "  </thead>\n",
       "  <tbody>\n",
       "    <tr>\n",
       "      <th>count</th>\n",
       "      <td>119390</td>\n",
       "      <td>119390</td>\n",
       "      <td>119390</td>\n",
       "      <td>118902</td>\n",
       "      <td>119390</td>\n",
       "      <td>119390</td>\n",
       "      <td>119390</td>\n",
       "      <td>119390</td>\n",
       "      <td>119390</td>\n",
       "      <td>119390</td>\n",
       "      <td>119390</td>\n",
       "    </tr>\n",
       "    <tr>\n",
       "      <th>unique</th>\n",
       "      <td>2</td>\n",
       "      <td>12</td>\n",
       "      <td>5</td>\n",
       "      <td>177</td>\n",
       "      <td>8</td>\n",
       "      <td>5</td>\n",
       "      <td>10</td>\n",
       "      <td>12</td>\n",
       "      <td>3</td>\n",
       "      <td>4</td>\n",
       "      <td>3</td>\n",
       "    </tr>\n",
       "    <tr>\n",
       "      <th>top</th>\n",
       "      <td>City Hotel</td>\n",
       "      <td>August</td>\n",
       "      <td>BB</td>\n",
       "      <td>PRT</td>\n",
       "      <td>Online TA</td>\n",
       "      <td>TA/TO</td>\n",
       "      <td>A</td>\n",
       "      <td>A</td>\n",
       "      <td>No Deposit</td>\n",
       "      <td>Transient</td>\n",
       "      <td>Check-Out</td>\n",
       "    </tr>\n",
       "    <tr>\n",
       "      <th>freq</th>\n",
       "      <td>79330</td>\n",
       "      <td>13877</td>\n",
       "      <td>92310</td>\n",
       "      <td>48590</td>\n",
       "      <td>56477</td>\n",
       "      <td>97870</td>\n",
       "      <td>85994</td>\n",
       "      <td>74053</td>\n",
       "      <td>104641</td>\n",
       "      <td>89613</td>\n",
       "      <td>75166</td>\n",
       "    </tr>\n",
       "  </tbody>\n",
       "</table>\n",
       "</div>"
      ],
      "text/plain": [
       "             hotel arrival_date_month    meal country market_segment  \\\n",
       "count       119390             119390  119390  118902         119390   \n",
       "unique           2                 12       5     177              8   \n",
       "top     City Hotel             August      BB     PRT      Online TA   \n",
       "freq         79330              13877   92310   48590          56477   \n",
       "\n",
       "       distribution_channel reserved_room_type assigned_room_type  \\\n",
       "count                119390             119390             119390   \n",
       "unique                    5                 10                 12   \n",
       "top                   TA/TO                  A                  A   \n",
       "freq                  97870              85994              74053   \n",
       "\n",
       "       deposit_type customer_type reservation_status  \n",
       "count        119390        119390             119390  \n",
       "unique            3             4                  3  \n",
       "top      No Deposit     Transient          Check-Out  \n",
       "freq         104641         89613              75166  "
      ]
     },
     "execution_count": 102,
     "metadata": {},
     "output_type": "execute_result"
    }
   ],
   "source": [
    "df.describe(include='object') # Just for the Observing the data "
   ]
  },
  {
   "cell_type": "code",
   "execution_count": 103,
   "id": "08dab4f6",
   "metadata": {
    "ExecuteTime": {
     "end_time": "2024-01-06T16:42:55.027457Z",
     "start_time": "2024-01-06T16:42:54.885411Z"
    }
   },
   "outputs": [
    {
     "data": {
      "text/plain": [
       "hotel                                  0\n",
       "is_canceled                            0\n",
       "lead_time                              0\n",
       "arrival_date_year                      0\n",
       "arrival_date_month                     0\n",
       "arrival_date_week_number               0\n",
       "arrival_date_day_of_month              0\n",
       "stays_in_weekend_nights                0\n",
       "stays_in_week_nights                   0\n",
       "adults                                 0\n",
       "children                               4\n",
       "babies                                 0\n",
       "meal                                   0\n",
       "country                              488\n",
       "market_segment                         0\n",
       "distribution_channel                   0\n",
       "is_repeated_guest                      0\n",
       "previous_cancellations                 0\n",
       "previous_bookings_not_canceled         0\n",
       "reserved_room_type                     0\n",
       "assigned_room_type                     0\n",
       "booking_changes                        0\n",
       "deposit_type                           0\n",
       "agent                              16340\n",
       "company                           112593\n",
       "days_in_waiting_list                   0\n",
       "customer_type                          0\n",
       "adr                                    0\n",
       "required_car_parking_spaces            0\n",
       "total_of_special_requests              0\n",
       "reservation_status                     0\n",
       "reservation_status_date                0\n",
       "dtype: int64"
      ]
     },
     "execution_count": 103,
     "metadata": {},
     "output_type": "execute_result"
    }
   ],
   "source": [
    "df.isna().sum() #Looking for Null Values"
   ]
  },
  {
   "cell_type": "code",
   "execution_count": 104,
   "id": "0c0a7cd7",
   "metadata": {
    "ExecuteTime": {
     "end_time": "2024-01-06T16:43:24.455069Z",
     "start_time": "2024-01-06T16:43:24.377902Z"
    }
   },
   "outputs": [],
   "source": [
    "df.drop(['company','agent'],axis=1,inplace=True)\n",
    " # We dont want these two columns as they don't add any value to this analysis"
   ]
  },
  {
   "cell_type": "code",
   "execution_count": 105,
   "id": "e37f6b17",
   "metadata": {
    "ExecuteTime": {
     "end_time": "2024-01-06T16:43:33.021372Z",
     "start_time": "2024-01-06T16:43:32.857469Z"
    }
   },
   "outputs": [],
   "source": [
    "df.dropna(inplace=True) #from this we drop the null values"
   ]
  },
  {
   "cell_type": "code",
   "execution_count": 106,
   "id": "a34ad524",
   "metadata": {
    "ExecuteTime": {
     "end_time": "2024-01-06T16:43:45.648301Z",
     "start_time": "2024-01-06T16:43:45.530256Z"
    }
   },
   "outputs": [
    {
     "data": {
      "text/plain": [
       "hotel                             0\n",
       "is_canceled                       0\n",
       "lead_time                         0\n",
       "arrival_date_year                 0\n",
       "arrival_date_month                0\n",
       "arrival_date_week_number          0\n",
       "arrival_date_day_of_month         0\n",
       "stays_in_weekend_nights           0\n",
       "stays_in_week_nights              0\n",
       "adults                            0\n",
       "children                          0\n",
       "babies                            0\n",
       "meal                              0\n",
       "country                           0\n",
       "market_segment                    0\n",
       "distribution_channel              0\n",
       "is_repeated_guest                 0\n",
       "previous_cancellations            0\n",
       "previous_bookings_not_canceled    0\n",
       "reserved_room_type                0\n",
       "assigned_room_type                0\n",
       "booking_changes                   0\n",
       "deposit_type                      0\n",
       "days_in_waiting_list              0\n",
       "customer_type                     0\n",
       "adr                               0\n",
       "required_car_parking_spaces       0\n",
       "total_of_special_requests         0\n",
       "reservation_status                0\n",
       "reservation_status_date           0\n",
       "dtype: int64"
      ]
     },
     "execution_count": 106,
     "metadata": {},
     "output_type": "execute_result"
    }
   ],
   "source": [
    "df.isna().sum() #lets check it again"
   ]
  },
  {
   "cell_type": "code",
   "execution_count": null,
   "id": "9051fef3",
   "metadata": {
    "ExecuteTime": {
     "end_time": "2024-01-06T16:28:14.281745Z",
     "start_time": "2024-01-06T16:28:14.281745Z"
    }
   },
   "outputs": [],
   "source": [
    "df['adr'] # Average Daily Rate"
   ]
  },
  {
   "cell_type": "code",
   "execution_count": 66,
   "id": "a6ae79cf",
   "metadata": {
    "ExecuteTime": {
     "end_time": "2024-01-06T16:28:15.107263Z",
     "start_time": "2024-01-06T16:28:14.343529Z"
    }
   },
   "outputs": [
    {
     "data": {
      "text/plain": [
       "<Axes: >"
      ]
     },
     "execution_count": 66,
     "metadata": {},
     "output_type": "execute_result"
    },
    {
     "data": {
      "image/png": "[encoded data removed]",
      "text/plain": [
       "<Figure size 640x480 with 1 Axes>"
      ]
     },
     "metadata": {},
     "output_type": "display_data"
    }
   ],
   "source": [
    "df['adr'].plot(kind='box') "
   ]
  },
  {
   "cell_type": "code",
   "execution_count": 86,
   "id": "5b3fa3b4",
   "metadata": {
    "ExecuteTime": {
     "end_time": "2024-01-06T16:36:24.669587Z",
     "start_time": "2024-01-06T16:36:24.640233Z"
    }
   },
   "outputs": [
    {
     "name": "stdout",
     "output_type": "stream",
     "text": [
      "is_canceled\n",
      "0    0.628648\n",
      "1    0.371352\n",
      "Name: proportion, dtype: float64\n",
      "**********\n",
      "is_canceled\n",
      "0    74745\n",
      "1    44153\n",
      "Name: count, dtype: int64\n"
     ]
    }
   ],
   "source": [
    "cancel=df['is_canceled'].value_counts(normalize=True)\n",
    "print(cancel)\n",
    "print('*'*10) \n",
    "print(df['is_canceled'].value_counts())"
   ]
  },
  {
   "cell_type": "code",
   "execution_count": null,
   "id": "dc684177",
   "metadata": {
    "ExecuteTime": {
     "end_time": "2024-01-06T16:05:33.245649Z",
     "start_time": "2024-01-06T16:05:33.225637Z"
    }
   },
   "outputs": [],
   "source": []
  },
  {
   "cell_type": "code",
   "execution_count": 68,
   "id": "1c941d35",
   "metadata": {
    "ExecuteTime": {
     "end_time": "2024-01-06T16:28:16.142641Z",
     "start_time": "2024-01-06T16:28:15.277490Z"
    }
   },
   "outputs": [
    {
     "name": "stdout",
     "output_type": "stream",
     "text": [
      "is_canceled\n",
      "0    74745\n",
      "1    44153\n",
      "Name: count, dtype: int64\n"
     ]
    },
    {
     "data": {
      "image/png": "[encoded data removed]",
      "text/plain": [
       "<Figure size 500x400 with 1 Axes>"
      ]
     },
     "metadata": {},
     "output_type": "display_data"
    }
   ],
   "source": [
    "plt.figure(figsize=(5,4))\n",
    "plt.title('Reservation Status')\n",
    "plt.bar(['Not Canceled','Canceled'],df['is_canceled'].value_counts())\n",
    "print(df['is_canceled'].value_counts())"
   ]
  },
  {
   "cell_type": "markdown",
   "id": "6deb52c5",
   "metadata": {},
   "source": [
    "- About 7800 people don't cancel it and "
   ]
  },
  {
   "cell_type": "code",
   "execution_count": 69,
   "id": "32c0cb92",
   "metadata": {
    "ExecuteTime": {
     "end_time": "2024-01-06T16:28:17.167812Z",
     "start_time": "2024-01-06T16:28:16.157203Z"
    }
   },
   "outputs": [
    {
     "data": {
      "image/png": "[encoded data removed]",
      "text/plain": [
       "<Figure size 800x400 with 1 Axes>"
      ]
     },
     "metadata": {},
     "output_type": "display_data"
    }
   ],
   "source": [
    "plt.figure(figsize=(8,4))\n",
    "ax=sns.countplot(x='hotel',hue='is_canceled',data=df)\n",
    "plt.legend(['not_cancelded','canceled'])\n",
    "plt.show()"
   ]
  },
  {
   "cell_type": "markdown",
   "id": "9fab2e14",
   "metadata": {},
   "source": [
    "- *City hotels exhibit a higher volume of bookings, resulting in a proportional increase in both canceled and non-canceled reservations. This surge in bookings contributes to the elevated numbers of both successful stays and cancellations, showcasing the dynamic nature of City hotel reservations. The significant booking volume underscores the importance of carefully examining cancellation patterns within the context of the overall reservation landscape.*"
   ]
  },
  {
   "cell_type": "code",
   "execution_count": 70,
   "id": "4cc8a921",
   "metadata": {
    "ExecuteTime": {
     "end_time": "2024-01-06T16:28:17.373561Z",
     "start_time": "2024-01-06T16:28:17.169875Z"
    }
   },
   "outputs": [],
   "source": [
    "resort_hotel=df[df['hotel']=='Resort Hotel'] \n",
    "city_hotel=df[df['hotel']=='City Hotel']"
   ]
  },
  {
   "cell_type": "code",
   "execution_count": 71,
   "id": "00e27fed",
   "metadata": {
    "ExecuteTime": {
     "end_time": "2024-01-06T16:28:17.487038Z",
     "start_time": "2024-01-06T16:28:17.433200Z"
    }
   },
   "outputs": [
    {
     "name": "stdout",
     "output_type": "stream",
     "text": [
      "Resort Hotel\n",
      "is_canceled\n",
      "0    0.72025\n",
      "1    0.27975\n",
      "Name: proportion, dtype: float64\n",
      "##############################\n",
      "City Hotel\n",
      "is_canceled\n",
      "0    0.582911\n",
      "1    0.417089\n",
      "Name: proportion, dtype: float64\n"
     ]
    }
   ],
   "source": [
    "print('Resort Hotel')\n",
    "print(resort_hotel['is_canceled'].value_counts(normalize=True))\n",
    "print('###'*10)\n",
    "print('City Hotel')\n",
    "print(city_hotel['is_canceled'].value_counts(normalize=True))"
   ]
  },
  {
   "cell_type": "code",
   "execution_count": 72,
   "id": "f5509d1f",
   "metadata": {
    "ExecuteTime": {
     "end_time": "2024-01-06T16:28:17.601563Z",
     "start_time": "2024-01-06T16:28:17.510988Z"
    }
   },
   "outputs": [],
   "source": [
    "resort_hotel=resort_hotel.groupby('reservation_status_date')[['adr']].mean()\n",
    "city_hotel=city_hotel.groupby('reservation_status_date')[['adr']].mean()\n",
    "#This part groups the 'resort_hotel' DataFrame by the 'reservation_status_date' column. \n",
    "#It essentially groups the data based on unique dates"
   ]
  },
  {
   "cell_type": "code",
   "execution_count": 77,
   "id": "178fbdba",
   "metadata": {
    "ExecuteTime": {
     "end_time": "2024-01-06T16:28:46.681049Z",
     "start_time": "2024-01-06T16:28:44.959036Z"
    }
   },
   "outputs": [
    {
     "data": {
      "image/png": "[encoded data removed]",
      "text/plain": [
       "<Figure size 1600x800 with 1 Axes>"
      ]
     },
     "metadata": {},
     "output_type": "display_data"
    }
   ],
   "source": [
    "df['month']=df['reservation_status_date'].dt.month\n",
    "plt.figure(figsize=(16,8))\n",
    "ax=sns.countplot(x='month',hue='is_canceled',data=df,palette='bright')\n",
    "legend_labels,_=ax.get_legend_handles_labels()\n",
    "ax.legend(bbox_to_anchor=(1,1))\n",
    "plt.title('Reservation status per month',size=20)\n",
    "plt.xlabel('month')\n",
    "plt.ylabel('number of reservations')\n",
    "plt.legend(['not canceled','canceled'])\n",
    "plt.show()\n",
    "\n"
   ]
  },
  {
   "cell_type": "markdown",
   "id": "c71aadc7",
   "metadata": {},
   "source": [
    "- *The data reveals distinct patterns in reservation outcomes across various months. In January, there is a notable prevalence of cancellations, accompanied by a lower frequency of non-cancellations. Conversely, August exhibits a contrasting trend, with a lower incidence of cancellations and a higher prevalence of successful stays. December, in comparison, shows a relatively muted disparity between cancellations and non-cancellations, suggesting a more balanced distribution of reservation outcomes. These nuanced variations underscore the seasonal dynamics and highlight the importance of considering temporal factors when analyzing cancellation patterns.*"
   ]
  },
  {
   "cell_type": "code",
   "execution_count": 78,
   "id": "727b218a",
   "metadata": {
    "ExecuteTime": {
     "end_time": "2024-01-06T16:31:31.757546Z",
     "start_time": "2024-01-06T16:31:31.744108Z"
    }
   },
   "outputs": [],
   "source": []
  },
  {
   "cell_type": "code",
   "execution_count": 83,
   "id": "20bce0ee",
   "metadata": {
    "ExecuteTime": {
     "end_time": "2024-01-06T16:34:02.224685Z",
     "start_time": "2024-01-06T16:34:00.968562Z"
    }
   },
   "outputs": [
    {
     "data": {
      "text/plain": [
       "<Axes: xlabel='month', ylabel='adr'>"
      ]
     },
     "execution_count": 83,
     "metadata": {},
     "output_type": "execute_result"
    },
    {
     "data": {
      "image/png": "[encoded data removed]",
      "text/plain": [
       "<Figure size 1500x800 with 1 Axes>"
      ]
     },
     "metadata": {},
     "output_type": "display_data"
    }
   ],
   "source": [
    "plt.figure(figsize=(15,8))\n",
    "\n",
    "sns.barplot(x='month',y='adr',data=df[df['is_canceled']==1].groupby('month')[['adr']].sum().reset_index())"
   ]
  },
  {
   "cell_type": "markdown",
   "id": "3ff6e32e",
   "metadata": {},
   "source": [
    "- AS we can see that "
   ]
  },
  {
   "cell_type": "code",
   "execution_count": 92,
   "id": "33dcb522",
   "metadata": {
    "ExecuteTime": {
     "end_time": "2024-01-06T16:38:47.321791Z",
     "start_time": "2024-01-06T16:38:47.026631Z"
    }
   },
   "outputs": [
    {
     "data": {
      "image/png": "[encoded data removed]",
      "text/plain": [
       "<Figure size 640x480 with 1 Axes>"
      ]
     },
     "metadata": {},
     "output_type": "display_data"
    }
   ],
   "source": [
    "cancel_df=df[df['is_canceled']==1]\n",
    "top_10=cancel_df['country'].value_counts()[:5]\n",
    "\n",
    "plt.pie(top_10,labels=top_10.index,autopct='%1.1f%%')\n",
    "plt.show()"
   ]
  },
  {
   "cell_type": "code",
   "execution_count": 93,
   "id": "c10097dc",
   "metadata": {
    "ExecuteTime": {
     "end_time": "2024-01-06T16:39:31.245835Z",
     "start_time": "2024-01-06T16:39:31.213450Z"
    }
   },
   "outputs": [
    {
     "data": {
      "text/plain": [
       "market_segment\n",
       "Online TA        56402\n",
       "Offline TA/TO    24160\n",
       "Groups           19806\n",
       "Direct           12448\n",
       "Corporate         5111\n",
       "Complementary      734\n",
       "Aviation           237\n",
       "Name: count, dtype: int64"
      ]
     },
     "execution_count": 93,
     "metadata": {},
     "output_type": "execute_result"
    }
   ],
   "source": [
    "df['market_segment'].value_counts()\n"
   ]
  },
  {
   "cell_type": "code",
   "execution_count": 94,
   "id": "e1bb864d",
   "metadata": {
    "ExecuteTime": {
     "end_time": "2024-01-06T16:39:43.115623Z",
     "start_time": "2024-01-06T16:39:43.065165Z"
    }
   },
   "outputs": [
    {
     "data": {
      "text/plain": [
       "market_segment\n",
       "Online TA        0.474373\n",
       "Offline TA/TO    0.203199\n",
       "Groups           0.166580\n",
       "Direct           0.104695\n",
       "Corporate        0.042986\n",
       "Complementary    0.006173\n",
       "Aviation         0.001993\n",
       "Name: proportion, dtype: float64"
      ]
     },
     "execution_count": 94,
     "metadata": {},
     "output_type": "execute_result"
    }
   ],
   "source": [
    "df['market_segment'].value_counts(normalize=True)"
   ]
  },
  {
   "cell_type": "code",
   "execution_count": 95,
   "id": "264b395a",
   "metadata": {
    "ExecuteTime": {
     "end_time": "2024-01-06T16:40:13.036988Z",
     "start_time": "2024-01-06T16:40:13.009935Z"
    }
   },
   "outputs": [
    {
     "data": {
      "text/plain": [
       "market_segment\n",
       "Online TA        0.469685\n",
       "Groups           0.273979\n",
       "Offline TA/TO    0.187484\n",
       "Direct           0.043485\n",
       "Corporate        0.022150\n",
       "Complementary    0.002038\n",
       "Aviation         0.001178\n",
       "Name: proportion, dtype: float64"
      ]
     },
     "execution_count": 95,
     "metadata": {},
     "output_type": "execute_result"
    }
   ],
   "source": [
    "cancel_df['market_segment'].value_counts(normalize=True)"
   ]
  },
  {
   "cell_type": "markdown",
   "id": "2eac5f43",
   "metadata": {},
   "source": [
    "# Conclusion"
   ]
  },
  {
   "cell_type": "markdown",
   "id": "ba8a77ac",
   "metadata": {},
   "source": [
    "- **It's evident from the analysis that fluctuations in the average daily rates directly influence cancellation rates, with higher rates correlating to increased cancellations, possibly due to consumer preference for lower prices. This trend is notably pronounced in January, characterized by higher cancellation rates compared to August, where lower average rates lead to fewer cancellations. Furthermore, the data indicates a higher cancellation rate in city hotels compared to resort hotels, despite city hotels receiving more bookings. Additionally, a substantial majority of our consumer base, around 77%, hails from Portugal. Most notably, our analysis reveals a consumer inclination toward booking hotels through online travel agents rather than offline counterparts.**\n"
   ]
  },
  {
   "cell_type": "markdown",
   "id": "911d0a91",
   "metadata": {},
   "source": [
    "# Suggestion"
   ]
  },
  {
   "cell_type": "markdown",
   "id": "84da3349",
   "metadata": {},
   "source": [
    "\n",
    "Certainly! Here are some suggestions to address the high cancellation rate:\n",
    "\n",
    "1. **Flexible Cancellation Policies:** Consider offering more flexible cancellation policies to incentivize guests to complete bookings, especially during high cancellation periods like January.\n",
    "\n",
    "2. **Dynamic Pricing Strategies:** Adjust pricing strategies based on demand, seasonality, and historical cancellation trends. Offering competitive rates during high cancellation periods might encourage guests to retain their bookings.\n",
    "\n",
    "3. **Personalized Communication:** Engage guests with personalized communication, reminding them of their upcoming reservations and highlighting the benefits of their stay to reduce last-minute cancellations.\n",
    "\n",
    "4. **Incentives for Non-Cancellation:** Offer perks or discounts for guests who maintain their reservations without cancellation, providing an added incentive for commitment.\n",
    "\n",
    "5. **Enhanced Booking Experience:** Simplify the booking process and ensure transparent, clear information regarding cancellation policies, aiding guests in making informed decisions.\n",
    "\n",
    "6. **Data-Driven Insights:** Continuously analyze data to identify patterns in cancellations, allowing for targeted strategies and adjustments to reduce future cancellations effectively.\n",
    "\n",
    "Implementing these strategies in conjunction with a deeper understanding of guest behavior can help mitigate high cancellation rates and improve overall revenue for the hotels."
   ]
  },
  {
   "cell_type": "code",
   "execution_count": null,
   "id": "808511e1",
   "metadata": {},
   "outputs": [],
   "source": []
  }
 ],
 "metadata": {
  "kernelspec": {
   "display_name": "Python 3 (ipykernel)",
   "language": "python",
   "name": "python3"
  },
  "language_info": {
   "codemirror_mode": {
    "name": "ipython",
    "version": 3
   },
   "file_extension": ".py",
   "mimetype": "text/x-python",
   "name": "python",
   "nbconvert_exporter": "python",
   "pygments_lexer": "ipython3",
   "version": "3.11.5"
  },
  "nbTranslate": {
   "displayLangs": [
    "*"
   ],
   "hotkey": "alt-t",
   "langInMainMenu": true,
   "sourceLang": "en",
   "targetLang": "fr",
   "useGoogleTranslate": true
  },
  "toc": {
   "base_numbering": 1,
   "nav_menu": {},
   "number_sections": true,
   "sideBar": true,
   "skip_h1_title": false,
   "title_cell": "Table of Contents",
   "title_sidebar": "Contents",
   "toc_cell": false,
   "toc_position": {},
   "toc_section_display": true,
   "toc_window_display": false
  }
 },
 "nbformat": 4,
 "nbformat_minor": 5
}
